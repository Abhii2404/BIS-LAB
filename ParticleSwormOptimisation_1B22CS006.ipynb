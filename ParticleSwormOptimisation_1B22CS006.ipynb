{
  "nbformat": 4,
  "nbformat_minor": 0,
  "metadata": {
    "colab": {
      "provenance": [],
      "authorship_tag": "ABX9TyP99zb/dajySxUP0YL5B1hZ",
      "include_colab_link": true
    },
    "kernelspec": {
      "name": "python3",
      "display_name": "Python 3"
    },
    "language_info": {
      "name": "python"
    }
  },
  "cells": [
    {
      "cell_type": "markdown",
      "metadata": {
        "id": "view-in-github",
        "colab_type": "text"
      },
      "source": [
        "<a href=\"https://colab.research.google.com/github/Abhii2404/BIS-LAB/blob/main/ParticleSwormOptimisation_1B22CS006.ipynb\" target=\"_parent\"><img src=\"https://colab.research.google.com/assets/colab-badge.svg\" alt=\"Open In Colab\"/></a>"
      ]
    },
    {
      "cell_type": "code",
      "execution_count": 1,
      "metadata": {
        "colab": {
          "base_uri": "https://localhost:8080/"
        },
        "id": "4ky1agQj8oMu",
        "outputId": "37486084-2dcf-47b6-9004-47b2ed4be182"
      },
      "outputs": [
        {
          "output_type": "stream",
          "name": "stdout",
          "text": [
            "Generation 1: Best solution = 6.942043908048895, Fitness = 0.6493954818210279\n",
            "Generation 2: Best solution = 6.942043908048895, Fitness = 0.6493954818210279\n",
            "Generation 3: Best solution = 6.942043908048895, Fitness = 0.34540465403742476\n",
            "Generation 4: Best solution = 6.942043908048895, Fitness = 0.016398981732652144\n",
            "Generation 5: Best solution = 6.942043908048895, Fitness = 0.009715277490052668\n",
            "Generation 6: Best solution = 6.942043908048895, Fitness = 0.009715277490052668\n",
            "Generation 7: Best solution = 6.942043908048895, Fitness = 0.009715277490052668\n",
            "Generation 8: Best solution = 6.942043908048895, Fitness = 0.009715277490052668\n",
            "Generation 9: Best solution = 6.942043908048895, Fitness = 0.009715277490052668\n",
            "Generation 10: Best solution = 6.942043908048895, Fitness = 0.009715277490052668\n",
            "Generation 11: Best solution = 6.942043908048895, Fitness = 0.008818373753666708\n",
            "Generation 12: Best solution = 6.942043908048895, Fitness = 0.008818373753666708\n",
            "Generation 13: Best solution = 6.942043908048895, Fitness = 0.0017618607144394207\n",
            "Generation 14: Best solution = 6.942043908048895, Fitness = 0.0017618607144394207\n",
            "Generation 15: Best solution = 6.942043908048895, Fitness = 0.0017618607144394207\n",
            "Generation 16: Best solution = 6.942043908048895, Fitness = 0.0017618607144394207\n",
            "Generation 17: Best solution = 6.942043908048895, Fitness = 0.0017618607144394207\n",
            "Generation 18: Best solution = 6.942043908048895, Fitness = 0.0017618607144394207\n",
            "Generation 19: Best solution = 6.942043908048895, Fitness = 0.0017618607144394207\n",
            "Generation 20: Best solution = 6.942043908048895, Fitness = 0.0017618607144394207\n",
            "Generation 21: Best solution = 6.942043908048895, Fitness = 0.0017618607144394207\n",
            "Generation 22: Best solution = 6.942043908048895, Fitness = 0.0017618607144394207\n",
            "Generation 23: Best solution = 6.942043908048895, Fitness = 0.0017618607144394207\n",
            "Generation 24: Best solution = 6.942043908048895, Fitness = 0.00010533588327776668\n",
            "Generation 25: Best solution = 6.942043908048895, Fitness = 0.00010533588327776668\n",
            "Generation 26: Best solution = 6.942043908048895, Fitness = 0.00010533588327776668\n",
            "Generation 27: Best solution = 6.942043908048895, Fitness = 0.00010533588327776668\n",
            "Generation 28: Best solution = 6.942043908048895, Fitness = 0.00010533588327776668\n",
            "Generation 29: Best solution = 6.942043908048895, Fitness = 0.00010533588327776668\n",
            "Generation 30: Best solution = 6.942043908048895, Fitness = 0.00010533588327776668\n",
            "Generation 31: Best solution = 6.942043908048895, Fitness = 0.00010533588327776668\n",
            "Generation 32: Best solution = 6.942043908048895, Fitness = 0.00010533588327776668\n",
            "Generation 33: Best solution = 6.942043908048895, Fitness = 0.00010533588327776668\n",
            "Generation 34: Best solution = 6.942043908048895, Fitness = 0.00010533588327776668\n",
            "Generation 35: Best solution = 6.942043908048895, Fitness = 0.00010533588327776668\n",
            "Generation 36: Best solution = 6.942043908048895, Fitness = 0.00010533588327776668\n",
            "Generation 37: Best solution = 6.942043908048895, Fitness = 0.00010533588327776668\n",
            "Generation 38: Best solution = 6.942043908048895, Fitness = 0.00010533588327776668\n",
            "Generation 39: Best solution = 6.942043908048895, Fitness = 0.00010533588327776668\n",
            "Generation 40: Best solution = 6.942043908048895, Fitness = 0.00010533588327776668\n",
            "Generation 41: Best solution = 6.942043908048895, Fitness = 0.00010533588327776668\n",
            "Generation 42: Best solution = 6.942043908048895, Fitness = 0.00010533588327776668\n",
            "Generation 43: Best solution = 6.942043908048895, Fitness = 0.00010533588327776668\n",
            "Generation 44: Best solution = 6.942043908048895, Fitness = 0.00010533588327776668\n",
            "Generation 45: Best solution = 6.942043908048895, Fitness = 0.00010533588327776668\n",
            "Generation 46: Best solution = 6.942043908048895, Fitness = 0.00010533588327776668\n",
            "Generation 47: Best solution = 6.942043908048895, Fitness = 0.00010533588327776668\n",
            "Generation 48: Best solution = 6.942043908048895, Fitness = 0.00010533588327776668\n",
            "Generation 49: Best solution = 6.942043908048895, Fitness = 0.00010533588327776668\n",
            "Generation 50: Best solution = 6.942043908048895, Fitness = 0.00010533588327776668\n",
            "Best solution found: 6.942043908048895, Fitness: 48.19197362127877\n"
          ]
        }
      ],
      "source": [
        "import random\n",
        "# Objective function: f(x) = x^2\n",
        "def fitness_function(x):\n",
        "    return x**2\n",
        "\n",
        "# Particle class to represent each particle in the swarm\n",
        "class Particle:\n",
        "    def __init__(self, min_x, max_x):\n",
        "        self.position = random.uniform(min_x, max_x)  # Current position\n",
        "        self.velocity = random.uniform(-1, 1)          # Current velocity\n",
        "        self.best_position = self.position               # Best position found by the particle\n",
        "        self.best_fitness = fitness_function(self.position)  # Best fitness value\n",
        "\n",
        "    def update_velocity(self, global_best_position, inertia_weight, cognitive_coefficient, social_coefficient):\n",
        "        r1, r2 = random.random(), random.random()\n",
        "        cognitive_velocity = cognitive_coefficient * r1 * (self.best_position - self.position)\n",
        "        social_velocity = social_coefficient * r2 * (global_best_position - self.position)\n",
        "        self.velocity = (inertia_weight * self.velocity) + cognitive_velocity + social_velocity\n",
        "\n",
        "    def update_position(self, min_x, max_x):\n",
        "        self.position += self.velocity\n",
        "        # Ensure the position is within bounds\n",
        "        self.position = max(min_x, min(self.position, max_x))\n",
        "        # Update the best position and fitness if needed\n",
        "        fitness = fitness_function(self.position)\n",
        "        if fitness < self.best_fitness:  # We want to minimize\n",
        "            self.best_fitness = fitness\n",
        "            self.best_position = self.position\n",
        "\n",
        "# PSO algorithm\n",
        "def particle_swarm_optimization(pop_size, min_x, max_x, generations, inertia_weight, cognitive_coefficient, social_coefficient):\n",
        "    # Initialize particles\n",
        "    swarm = [Particle(min_x, max_x) for _ in range(pop_size)]\n",
        "\n",
        "    # Global best position initialized to None\n",
        "    global_best_position = swarm[0].best_position\n",
        "    global_best_fitness = swarm[0].best_fitness\n",
        "\n",
        "    for generation in range(generations):\n",
        "        for particle in swarm:\n",
        "            # Update global best position\n",
        "            if particle.best_fitness < global_best_fitness:\n",
        "                global_best_fitness = particle.best_fitness\n",
        "\n",
        "            # Update particle velocity and position\n",
        "            particle.update_velocity(global_best_position, inertia_weight, cognitive_coefficient, social_coefficient)\n",
        "            particle.update_position(min_x, max_x)\n",
        "\n",
        "        # Print the best fitness in the current generation\n",
        "        print(f\"Generation {generation + 1}: Best solution = {global_best_position}, Fitness = {global_best_fitness}\")\n",
        "\n",
        "    return global_best_position\n",
        "\n",
        "# Parameters\n",
        "population_size = 30\n",
        "min_value = -10\n",
        "max_value = 10\n",
        "num_generations = 50\n",
        "inertia_weight = 0.5\n",
        "cognitive_coefficient = 1.5\n",
        "social_coefficient = 1.5\n",
        "\n",
        "# Run Particle Swarm Optimization\n",
        "best_solution = particle_swarm_optimization(population_size, min_value, max_value, num_generations, inertia_weight, cognitive_coefficient, social_coefficient)\n",
        "print(f\"Best solution found: {best_solution}, Fitness: {fitness_function(best_solution)}\")"
      ]
    }
  ]
}